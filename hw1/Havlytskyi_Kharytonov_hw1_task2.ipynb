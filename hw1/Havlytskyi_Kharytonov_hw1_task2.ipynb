{
  "cells": [
    {
      "cell_type": "code",
      "execution_count": 1,
      "id": "fe44083c-b2d1-4370-a08c-53b19b8ec944",
      "metadata": {
        "id": "fe44083c-b2d1-4370-a08c-53b19b8ec944"
      },
      "outputs": [],
      "source": [
        "# We use torch and sklearn only on steps of fitting data\n",
        "import torch\n",
        "from tqdm import tqdm\n",
        "from scipy.optimize import linprog\n",
        "from torchvision import datasets\n",
        "import torchvision.transforms as transforms\n",
        "from sklearn.model_selection import train_test_split\n",
        "\n",
        "import numpy as np\n",
        "import matplotlib.pyplot as plt\n",
        "\n",
        "%matplotlib inline"
      ]
    },
    {
      "cell_type": "markdown",
      "source": [
        "# Problem 2: Separating hyperplanes and the Perceptron Learning Algorithm (4 pts)\n",
        "### <div align=\"right\"> &copy; Yurii Yeliseev & Rostyslav Hryniv, 2022 </div>\n",
        "\n",
        "## Completed by:   \n",
        "*   Ivan Havlytskyi\n",
        "*   Oleksandr Kharytonov"
      ],
      "metadata": {
        "id": "EQznMLwjRzhi"
      },
      "id": "EQznMLwjRzhi"
    },
    {
      "cell_type": "markdown",
      "source": [
        "### Description:\n",
        "#### The aim of this task is to discuss a simple binary classification method for linearly separated classes. The Perceptron Learning Algorithm finds a ***separating hyperplane*** in finitely many steps and is based on a clear geometric update method. We will derive the upper bound on the number of iterations in PLA and implement it for digit classification for the MNIST database.\n",
        "\n",
        "#### For this task of your homework you can get 3 points. Do not forget to save and rename the notebook before making any changes!"
      ],
      "metadata": {
        "id": "euyTTMP6nrDO"
      },
      "id": "euyTTMP6nrDO"
    },
    {
      "cell_type": "markdown",
      "source": [
        "## 1. Separating hyperplanes and classification (1.2 pts)"
      ],
      "metadata": {
        "id": "BPiRUcHnhqxX"
      },
      "id": "BPiRUcHnhqxX"
    },
    {
      "cell_type": "markdown",
      "source": [
        "### 1.1. Binary classification.    \n",
        "A typical task of binary classification reads as follows. We are given the set of labelled (training) data $(\\mathbf{x}_k, y_k), k=1,2,\\dots, N$, where $\\mathbf{x}_k \\in \\mathbb{R}^d$ gives a data point and the label $y_k = \\pm1$ encodes the class (e.g. $y_k=1$ is the <font color='red'>''red''</font> class and $y_k=-1$ is the <font color='blue'>''blue''</font> one). The task is to find a classfier $f \\,:\\, \\mathbb{R}^d \\to \\pm1$ that would correctly recognize the classes, i.e. satisfy $y_k f(\\mathbf{x}_k) >0$ for all (or most) $k=1,2,\\dots,N$. This function can then be used to guess the class of new (unseen) data $\\mathbf{x}\\in\\mathbb{R}^n$.\n"
      ],
      "metadata": {
        "id": "F8uu18FS0NVJ"
      },
      "id": "F8uu18FS0NVJ"
    },
    {
      "cell_type": "markdown",
      "source": [
        "\n",
        "### 1.2. Separating hyperplane  \n",
        "The simplest case is when the red and blue classes are *linearly separable*, i.e., when there is a hyperplane $H: \\mathbf{w} \\cdot \\mathbf{x} + w_0 = 0$ separating the red and blue datapoints. Then  $f(\\mathbf{x}) = \\mathbf{w}\\cdot \\mathbf{x} + w_0$ is an affine classifier, so that $f(\\mathbf{x}_k)>0$ for red points and $f(\\mathbf{x}_k)<0$ for blue ones. Augmenting $\\mathbf{x}$ to $\\widehat{\\mathbf{x}} := (1, \\mathbf{x})$ and $\\widehat{\\mathbf{w}} = (w_0,\\mathbf{w})$, we recognize that $f(\\mathbf{x})= \\widehat{\\mathbf{x}}\\cdot \\widehat{\\mathbf{w}}$. Therefore, the angles between $\\widehat{\\mathbf{x}}$ and $\\widehat{\\mathbf{w}}$ are acute for red datapoints and obtuse for the blue ones. The task is therefore to find the *normal vector* $\\widehat{\\mathbf{w}}$ with this properties."
      ],
      "metadata": {
        "id": "HqpK65XMSYul"
      },
      "id": "HqpK65XMSYul"
    },
    {
      "cell_type": "markdown",
      "id": "75612201-411f-48d9-8f36-629d8e8c5811",
      "metadata": {
        "tags": [],
        "id": "75612201-411f-48d9-8f36-629d8e8c5811"
      },
      "source": [
        "### 1.3. The idea behind the Perceptron learning algorithm (PLA)\n",
        "\n",
        "To simplify the notations, in what follows we will omit the \"hats\" above the $(d+1)$-dimensional vectors $\\widehat{\\mathbf{x}}$ and $\\widehat{\\mathbf{w}}$.\n",
        "\n",
        "PLA is an iterative algorithm that updates the direction vector ${\\mathbf{w}}$ towards a misclassified example, one at a time.\n",
        "\n",
        "Let's recall that correctly classified vectors $\\mathbf{x}_j$ must satisfy the inequality\n",
        "$$\n",
        "  y_j ({\\mathbf{w}}\\cdot {\\mathbf{x}}_j) > 0.\n",
        "$$\n",
        "If a red $\\mathbf{x}_j$ is misclassified, then the angle between ${\\mathbf{w}}$ and ${\\mathbf{x}}_j$ is obtuse. The idea is that we should decrease the angle between them by updating ${\\mathbf{w}}$ to ${\\mathbf{w}} + {\\mathbf{x}}_j$ (see Figure 1). Likewise, if a blue $\\mathbf{x}_j$ is misclassified, then the angle between ${\\mathbf{w}}$ and ${\\mathbf{x}}_j$ is acute, and we increase it be replacing ${\\mathbf{w}}$ with ${\\mathbf{w}} - {\\mathbf{x}}_j$. In both cases, the update is $${\\mathbf{w}} \\mapsto {\\mathbf{w}} + y_j {\\mathbf{x}}_j$$\n",
        "\n",
        "<!DOCTYPE html>\n",
        "<html lang=\"en\">\n",
        "<head>\n",
        "    <meta charset=\"UTF-8\">\n",
        "    <meta http-equiv=\"X-UA-Compatible\" content=\"IE=edge\">\n",
        "    <meta name=\"viewport\" content=\"width=device-width, initial-scale=1.0\">\n",
        "    <title></title>\n",
        "</head>\n",
        "<body>\n",
        "    <img src=\"https://drive.google.com/uc?export=view&id=12rduejeedS8NxrxXkSBJkkcDH3lB0k-R\">\n",
        "\n",
        "\n",
        "</body>\n",
        "</html>\n"
      ]
    },
    {
      "cell_type": "markdown",
      "source": [
        "### 1.4. **PLA**\n",
        "\n",
        "The above considerations suggest the following **PLA**:\n",
        "1.   Start with ${\\mathbf{w}}_0=\\mathbf{0}$ and classify the points\n",
        "2.   Take an arbitrary misclassified point\n",
        "3.   Update the ${\\mathbf{w}}$\n",
        "4.   Update the classification\n",
        "5.   Repeat 2-4 until there are misclassified points."
      ],
      "metadata": {
        "id": "xmDMvOJ9eNtd"
      },
      "id": "xmDMvOJ9eNtd"
    },
    {
      "cell_type": "markdown",
      "source": [
        "### 1.5. **PLA**: proof of convergence (1.2 pt)\n",
        "\n",
        "---"
      ],
      "metadata": {
        "id": "UBUdk2akoCMC"
      },
      "id": "UBUdk2akoCMC"
    },
    {
      "cell_type": "markdown",
      "source": [
        "#### **1.5.1 (0.4 pts)** Analyze the PLA update step  \n",
        "Prove that by updating ${\\mathbf{w}}$, we are decreasing or increasing (as required) the angle between ${\\mathbf{w}}$ and ${\\mathbf{x}}_j$.\n",
        "\n",
        "---\n",
        "\n",
        "#### Proof:\n",
        "\n",
        "Recall that the cosine of the angle $\\theta$ between two vectors $\\mathbf{w}$ and $\\mathbf{x}_j$ is given by:\n",
        "$$\\cos \\theta = \\frac{\\mathbf{w} \\cdot \\mathbf{x}_j}{\\|\\mathbf{w}\\| \\|\\mathbf{x}_j\\|}$$\n",
        "\n",
        "The angle decreases when $\\cos \\theta$ increases (for acute angles) and increases when $\\cos \\theta$ decreases (toward obtuse angles).\n",
        "\n",
        "**Case 1: Misclassified red point** ($y_j = +1$)\n",
        "\n",
        "- Since the point is misclassified: $y_j(\\mathbf{w} \\cdot \\mathbf{x}_j) = \\mathbf{w} \\cdot \\mathbf{x}_j < 0$\n",
        "- This means the angle between $\\mathbf{w}$ and $\\mathbf{x}_j$ is obtuse (> 90°)\n",
        "- After update: $\\mathbf{w}_{\\text{new}} = \\mathbf{w} + y_j\\mathbf{x}_j = \\mathbf{w} + \\mathbf{x}_j$\n",
        "\n",
        "Consider the dot product after update:\n",
        "$$\\mathbf{w}_{\\text{new}} \\cdot \\mathbf{x}_j = (\\mathbf{w} + \\mathbf{x}_j) \\cdot \\mathbf{x}_j = \\mathbf{w} \\cdot \\mathbf{x}_j + \\|\\mathbf{x}_j\\|^2$$\n",
        "\n",
        "Since $\\|\\mathbf{x}_j\\|^2 > 0$, we have:\n",
        "$$\\mathbf{w}_{\\text{new}} \\cdot \\mathbf{x}_j > \\mathbf{w} \\cdot \\mathbf{x}_j$$\n",
        "\n",
        "This means the dot product increased, making the angle **smaller** (less obtuse), which is what we want.\n",
        "\n",
        "**Case 2: Misclassified blue point** ($y_j = -1$)\n",
        "\n",
        "- Since the point is misclassified: $y_j(\\mathbf{w} \\cdot \\mathbf{x}_j) = -(\\mathbf{w} \\cdot \\mathbf{x}_j) < 0$\n",
        "- This means $\\mathbf{w} \\cdot \\mathbf{x}_j > 0$, so the angle is acute (< 90°)\n",
        "- After update: $\\mathbf{w}_{\\text{new}} = \\mathbf{w} + y_j\\mathbf{x}_j = \\mathbf{w} - \\mathbf{x}_j$\n",
        "\n",
        "Consider the dot product after update:\n",
        "$$\\mathbf{w}_{\\text{new}} \\cdot \\mathbf{x}_j = (\\mathbf{w} - \\mathbf{x}_j) \\cdot \\mathbf{x}_j = \\mathbf{w} \\cdot \\mathbf{x}_j - \\|\\mathbf{x}_j\\|^2$$\n",
        "\n",
        "Since $\\|\\mathbf{x}_j\\|^2 > 0$, we have:\n",
        "$$\\mathbf{w}_{\\text{new}} \\cdot \\mathbf{x}_j < \\mathbf{w} \\cdot \\mathbf{x}_j$$\n",
        "\n",
        "This means the dot product decreased (became less positive or even negative), making the angle **larger** (less acute or even obtuse), which is what we want.\n",
        "\n",
        "So, in both cases, the update moves $\\mathbf{w}$ in a direction that corrects the misclassification by adjusting the angle appropriately.\n",
        "\n",
        "Basically here we made a proof of the intuition in 1.3\n",
        "\n",
        "---\n",
        "\n"
      ],
      "metadata": {
        "id": "oOn-vs9ye4B2"
      },
      "id": "oOn-vs9ye4B2"
    },
    {
      "cell_type": "markdown",
      "id": "e5680473-6119-4831-8990-ff6b3ac69e83",
      "metadata": {
        "id": "e5680473-6119-4831-8990-ff6b3ac69e83"
      },
      "source": [
        "#### **Assumptions and notations**\n",
        "\n",
        "***Assumption on linear separability*** There exists an ${\\mathbf{w}^{\\star}} \\in \\mathbb{R}^{d+1}$ of unit length and $\\gamma > 0$ such that $$y_k\\, {\\mathbf{x}}_k\\cdot {\\mathbf{w}}^{\\star} \\ge \\gamma, \\qquad k=1,2,\\dots, n.$$ The value $\\gamma$ determines the width of the *separating slab* free of any datapoints. The larger $\\gamma$, the wider the slab and the more robust the classifier is to noise in data.  \n",
        "\n",
        "We also denote by $R$ the maximum norm of $\\mathbf{x}_k$\n",
        "\n",
        "***Theorem on PLA convergence.*** The PLA makes at most $\\frac{R^2}{\\gamma^2}$ updates, after which it returns a separating hyperplane.\n",
        "\n",
        "***Proof.*** Should the algorthm terminate, then the resulting ${\\mathbf{w}}$ determines a separating hyperplane. Thus it suffices to show that the algorithm terminates after at most $\\frac{R^2}{\\gamma^2}$ updates. The approach is to get upper and lower bounds on the norm of the $k^{\\mathrm{th}}$ update ${\\mathbf{w}}_k$ of the weighting vector ${\\mathbf{w}}$, starting with ${\\mathbf{w}}_0 = \\mathbf{0}$.\n",
        "\n",
        "Assume that $k\\ge 1$ and ${\\mathbf{x}}_j$ is a misclasssified point on iteration $k$; then\n",
        "$$\n",
        "\\begin{aligned}\n",
        "\\mathbf{w}_{k+1} \\cdot {\\mathbf{w}}^{\\star} &=\\left({\\mathbf{w}}_k + y_j \\mathbf{x}_j\\right) \\cdot {\\mathbf{w}}^{\\star} \\\\\n",
        "&={\\mathbf{w}}_k \\cdot {\\mathbf{w}}^{\\star}+y_j\\left({\\mathbf{x}}_j \\cdot {\\mathbf{w}}^{\\star}\\right) \\\\\n",
        "&>{\\mathbf{w}}_k \\cdot {\\mathbf{w}}^{\\star} + \\gamma\n",
        "\\end{aligned}\n",
        "$$\n",
        "\n",
        "---\n"
      ]
    },
    {
      "cell_type": "markdown",
      "source": [
        "#### **1.5.2. (0.4 pts)** Explain by induction that ${\\mathbf{w}}_{k} \\cdot {\\mathbf{w}}^{\\star}> k \\gamma$.\n",
        "\n",
        "---\n",
        "\n",
        "#### Proof:\n",
        "\n",
        "We already have:\n",
        "$$\\mathbf{w}_{k+1} \\cdot \\mathbf{w}^* > \\mathbf{w}_k \\cdot \\mathbf{w}^* + \\gamma$$\n",
        "\n",
        "**Base case**, $k = 0$:\n",
        "- We start with $\\mathbf{w}_0 = \\mathbf{0}$\n",
        "- Therefore: $\\mathbf{w}_0 \\cdot \\mathbf{w}^* = 0 = 0 \\cdot \\gamma$\n",
        "\n",
        "**Inductive step:**\n",
        "- **Hypothesis:** Assume $\\mathbf{w}_k \\cdot \\mathbf{w}^* \\geq k\\gamma$ holds for some $k \\geq 0$\n",
        "- **To prove:** $\\mathbf{w}_{k+1} \\cdot \\mathbf{w}^* \\geq (k+1)\\gamma$\n",
        "\n",
        "From the given inequality before:\n",
        "$$\\mathbf{w}_{k+1} \\cdot \\mathbf{w}^* > \\mathbf{w}_k \\cdot \\mathbf{w}^* + \\gamma$$\n",
        "\n",
        "By the inductive hypothesis, we get:\n",
        "$$\\mathbf{w}_{k+1} \\cdot \\mathbf{w}^* > k\\gamma + \\gamma = (k+1)\\gamma$$\n",
        "\n",
        "Therefore, $\\mathbf{w}_{k+1} \\cdot \\mathbf{w}^* \\geq (k+1)\\gamma$\n",
        "\n",
        "Finally, by mathematical induction, $\\mathbf{w}_k \\cdot \\mathbf{w}^* \\geq k\\gamma$ for all $k \\geq 0$\n",
        "\n",
        "---"
      ],
      "metadata": {
        "id": "Quwk-bRAoONU"
      },
      "id": "Quwk-bRAoONU"
    },
    {
      "cell_type": "markdown",
      "source": [
        "As a result, we see that\n",
        "$$\\|\\mathbf{w}_k\\| \\ge {\\mathbf{w}}_{k} \\cdot {\\mathbf{w}}^{\\star}> k \\gamma\\tag{1}$$\n",
        "\n",
        "To obtain the upper bound, we argue that\n",
        "$$\n",
        "\\begin{aligned}\n",
        "\\left\\|\\mathbf{w}_{k+1}\\right\\|^2 &=\\left\\|\\mathbf{w}_k+y_j \\mathbf{x}_j\\right\\|^2 \\\\\n",
        "&=\\left\\|\\mathbf{w}_k\\right\\|^2+\\left\\|y_j \\mathbf{x}_j\\right\\|^2+2\\left(\\mathbf{w}_k \\cdot \\mathbf{x}_j\\right) y_j \\\\\n",
        "&=\\left\\|\\mathbf{w}_k\\right\\|^2+\\left\\|\\mathbf{x}_j\\right\\|^2+2\\left(\\mathbf{w}_k \\cdot \\mathbf{x}_j\\right) y_j\n",
        "\\end{aligned}\n",
        "$$\n",
        "\n",
        "---"
      ],
      "metadata": {
        "id": "3uu2Kmluod9X"
      },
      "id": "3uu2Kmluod9X"
    },
    {
      "cell_type": "markdown",
      "source": [
        "#### **1.5.3. (0.4 pts)** Derive the lower bound\n",
        "$$\n",
        "\\begin{aligned}\n",
        "\\left\\|\\mathbf{w}_{k+1}\\right\\|^2\n",
        "&\\le\\left\\|\\mathbf{w}_k\\right\\|^2+\\left\\|\\mathbf{x}_j\\right\\|^2 \\\\\n",
        "&\\le\\left\\|\\mathbf{w}_k\\right\\|^2+R^2\n",
        "\\end{aligned}\n",
        "$$\n",
        "and use induction to conclude that\n",
        "$$\n",
        "\\left\\|\\mathbf{w}_{k}\\right\\|^2 \\le k\\, R^2 \\tag{2}\n",
        "$$\n",
        "\n",
        "---\n",
        "\n",
        "\n",
        "#### Proof:\n",
        "\n",
        "We need to derive an **upper bound** on $\\|\\mathbf{w}_k\\|^2$.\n",
        "\n",
        "When $\\mathbf{x}_j$ is misclassified at iteration $k$, we have $y_j(\\mathbf{w}_k \\cdot \\mathbf{x}_j) \\leq 0$.\n",
        "\n",
        "After the update $\\mathbf{w}_{k+1} = \\mathbf{w}_k + y_j\\mathbf{x}_j$:\n",
        "\n",
        "$$\\begin{aligned}\n",
        "\\|\\mathbf{w}_{k+1}\\|^2 &= \\|\\mathbf{w}_k + y_j\\mathbf{x}_j\\|^2 \\\\\n",
        "&= (\\mathbf{w}_k + y_j\\mathbf{x}_j) \\cdot (\\mathbf{w}_k + y_j\\mathbf{x}_j) \\\\\n",
        "&= \\|\\mathbf{w}_k\\|^2 + 2y_j(\\mathbf{w}_k \\cdot \\mathbf{x}_j) + y_j^2\\|\\mathbf{x}_j\\|^2 \\\\\n",
        "&= \\|\\mathbf{w}_k\\|^2 + 2y_j(\\mathbf{w}_k \\cdot \\mathbf{x}_j) + \\|\\mathbf{x}_j\\|^2 \\quad \\text{(since } y_j^2 = 1\\text{)}\n",
        "\\end{aligned}$$\n",
        "\n",
        "Since $\\mathbf{x}_j$ is misclassified: $y_j(\\mathbf{w}_k \\cdot \\mathbf{x}_j) \\leq 0$, therefore:\n",
        "$$\\|\\mathbf{w}_{k+1}\\|^2 \\leq \\|\\mathbf{w}_k\\|^2 + \\|\\mathbf{x}_j\\|^2$$\n",
        "\n",
        "By definition, $\\|\\mathbf{x}_j\\| \\leq R$ for all $j$, so:\n",
        "$$\\|\\mathbf{w}_{k+1}\\|^2 \\leq \\|\\mathbf{w}_k\\|^2 + R^2$$\n",
        "\n",
        "\n",
        "**Claim:** $\\|\\mathbf{w}_k\\|^2 \\leq kR^2$ for all $k \\geq 0$.\n",
        "\n",
        "Proof by induction:\n",
        "\n",
        "**Base case**, $k = 0$:\n",
        "$$\\|\\mathbf{w}_0\\|^2 = \\|\\mathbf{0}\\|^2 = 0 = 0 \\cdot R^2$$\n",
        "\n",
        "**Inductive step:**\n",
        "- **Hypothesis:** Assume $\\|\\mathbf{w}_k\\|^2 \\leq kR^2$ for some $k \\geq 0$\n",
        "- **To prove:** $\\|\\mathbf{w}_{k+1}\\|^2 \\leq (k+1)R^2$\n",
        "\n",
        "From the recurrence relation we derived earlier:\n",
        "$$\\|\\mathbf{w}_{k+1}\\|^2 \\leq \\|\\mathbf{w}_k\\|^2 + R^2$$\n",
        "\n",
        "Applying the inductive hypothesis:\n",
        "$$\\|\\mathbf{w}_{k+1}\\|^2 \\leq kR^2 + R^2 = (k+1)R^2$$\n",
        "\n",
        "Therefore, by mathematical induction, $\\|\\mathbf{w}_k\\|^2 \\leq kR^2$ for all $k \\geq 0$\n",
        "\n",
        "\n",
        "---\n"
      ],
      "metadata": {
        "id": "BfKkTkx2YTrb"
      },
      "id": "BfKkTkx2YTrb"
    },
    {
      "cell_type": "markdown",
      "source": [
        "\n",
        "Together, (1) and (2) yield\n",
        "$$\n",
        "k^2 \\gamma^2<\\left\\|\\mathbf{w}_{k}\\right\\|^2 \\le k R^2,\n",
        "$$\n",
        "which implies the bound $k<\\frac{R^2}{\\gamma^2}$ and finishes the proof."
      ],
      "metadata": {
        "id": "Uk_bKxExoqXD"
      },
      "id": "Uk_bKxExoqXD"
    },
    {
      "cell_type": "markdown",
      "source": [
        "## 2. PLA implementation on MNIST dataset (2.3 pts)"
      ],
      "metadata": {
        "id": "4vq40CCjb4tp"
      },
      "id": "4vq40CCjb4tp"
    },
    {
      "cell_type": "markdown",
      "id": "69405653-4bb7-4a5a-a6ab-6d06f81e2452",
      "metadata": {
        "id": "69405653-4bb7-4a5a-a6ab-6d06f81e2452"
      },
      "source": [
        "### 2.1. Data"
      ]
    },
    {
      "cell_type": "markdown",
      "id": "25024833-b7ae-48a4-b2d2-254aedb9e1ff",
      "metadata": {
        "id": "25024833-b7ae-48a4-b2d2-254aedb9e1ff"
      },
      "source": [
        "`train_data` is torch dataset object where images and targets lie inside `train_data.data` and `train_data.targets` respectively. To convert to numpy array you can use `.numpy()` method."
      ]
    },
    {
      "cell_type": "code",
      "execution_count": 2,
      "id": "689dbfa9-1ed2-4baa-b0f0-8c094fa9a972",
      "metadata": {
        "id": "689dbfa9-1ed2-4baa-b0f0-8c094fa9a972",
        "colab": {
          "base_uri": "https://localhost:8080/"
        },
        "outputId": "85c78738-7089-4dbd-a8f8-54ea1673a34a"
      },
      "outputs": [
        {
          "output_type": "stream",
          "name": "stderr",
          "text": [
            "100%|██████████| 9.91M/9.91M [00:00<00:00, 18.1MB/s]\n",
            "100%|██████████| 28.9k/28.9k [00:00<00:00, 488kB/s]\n",
            "100%|██████████| 1.65M/1.65M [00:00<00:00, 4.51MB/s]\n",
            "100%|██████████| 4.54k/4.54k [00:00<00:00, 9.85MB/s]\n"
          ]
        }
      ],
      "source": [
        "train_data = datasets.MNIST(root='data', train=True, download=True)"
      ]
    },
    {
      "cell_type": "markdown",
      "metadata": {
        "id": "ab0a6dd4-0ffe-4f59-bfad-b33824243772"
      },
      "source": [
        "### 2.2 Take 2 digits samples **(0.4 pts)**\n",
        "\n",
        "First of all you need to take only two digits samples from the dataset and convert the targets properly for the PLA. Choose the two digits based on the sum of your birthdays (e.g. 2 and 4 if it is 24; take 4 and 5 if it is 44)"
      ],
      "id": "ab0a6dd4-0ffe-4f59-bfad-b33824243772"
    },
    {
      "cell_type": "code",
      "execution_count": 3,
      "metadata": {
        "id": "8cf9e98a-daff-4c94-9019-ace288e89bc9"
      },
      "outputs": [],
      "source": [
        "def filter_data(train_data, digit_1, digit_2):\n",
        "    \"\"\"\n",
        "    Take only digit_1 and digit_2 from the dataset and transform labels\n",
        "    Args:\n",
        "        train_data: torchvision.datasets.mnist.MNIST\n",
        "        digit_1: int (from 0 to 9)\n",
        "        digit_2: int (from 0 to 9)\n",
        "\n",
        "    Returns:\n",
        "        train_data: torchvision.datasets.mnist.MNIST or np.array\n",
        "    \"\"\"\n",
        "    # ========= YOUR CODE STARTS HERE ========= #\n",
        "    digits_cls = torch.tensor([digit_1, digit_2])\n",
        "    indices = torch.isin(train_data.targets, digits_cls)\n",
        "    train_data.data, train_data.targets = train_data.data[indices], train_data.targets[indices]\n",
        "    train_data.targets = torch.where(train_data.targets == digit_1, -1, 1)\n",
        "    # ========== YOUR CODE ENDS HERE ========== #\n",
        "    return train_data"
      ],
      "id": "8cf9e98a-daff-4c94-9019-ace288e89bc9"
    },
    {
      "cell_type": "code",
      "execution_count": 4,
      "metadata": {
        "id": "dee2eaa6-498f-4174-875a-501548d56113"
      },
      "outputs": [],
      "source": [
        "train_data = filter_data(train_data, 4, 9) #Our sum is 23+26=49, so digit_1 = 4, digit_2 = 9"
      ],
      "id": "dee2eaa6-498f-4174-875a-501548d56113"
    },
    {
      "cell_type": "markdown",
      "metadata": {
        "id": "IFga5wKx5qLn"
      },
      "source": [
        "### 2.3 Take a smaller subset and divide it into train and test sets **(0.4 pts)**\n",
        "\n",
        "\n",
        "Since the dataset is big, you need to use only part of it in this task (take\n",
        "~20-30% of the whole dataset for further processing).\n",
        "\n",
        "1. Properly subdivide dataset\n",
        "2. Calculate number samples in each class for test and train\n",
        "\n",
        "***Note***: you need to have same distributions inside train and test set"
      ],
      "id": "IFga5wKx5qLn"
    },
    {
      "cell_type": "code",
      "execution_count": 5,
      "metadata": {
        "id": "13cxSAQd5qLo"
      },
      "outputs": [],
      "source": [
        "def split_dataset(train_data):\n",
        "    \"\"\"\n",
        "    Split dataset into train and test parts.\n",
        "\n",
        "    !Hint: You can use train_test_split from sklearn for that\n",
        "\n",
        "    Args:\n",
        "        train_data: torchvision.datasets.mnist.MNIST or np.array\n",
        "\n",
        "    Returns:\n",
        "        X_train: Array of shape (N, 28, 28), images from the train set\n",
        "        y_train: Array of shape (N), labels from the train set\n",
        "\n",
        "        X_test: Array of shape (N, 28, 28), images from the test set\n",
        "        y_test: Array of shape (N), labels from the test set\n",
        "    \"\"\"\n",
        "    # ========= YOUR CODE STARTS HERE ========= #\n",
        "    X = train_data.data.numpy()\n",
        "    y = train_data.targets.numpy()\n",
        "\n",
        "    _, small_train_data, _, small_train_targets = train_test_split(\n",
        "        X, y,\n",
        "        test_size=0.25,\n",
        "        random_state=42,\n",
        "        stratify=y\n",
        "    )\n",
        "\n",
        "    X_train, X_test, y_train, y_test = train_test_split(\n",
        "        small_train_data,\n",
        "        small_train_targets,\n",
        "        test_size=0.2,\n",
        "        random_state=42,\n",
        "        stratify=small_train_targets\n",
        "    )\n",
        "    # ========== YOUR CODE ENDS HERE ========== #\n",
        "    return X_train, X_test, y_train, y_test"
      ],
      "id": "13cxSAQd5qLo"
    },
    {
      "cell_type": "code",
      "execution_count": 6,
      "metadata": {
        "id": "4pT-osLT5qLo"
      },
      "outputs": [],
      "source": [
        "X_train, X_test, y_train, y_test = split_dataset(train_data)"
      ],
      "id": "4pT-osLT5qLo"
    },
    {
      "cell_type": "code",
      "source": [
        "print(f\"Unique values in y_train: {np.unique(y_train)}\")\n",
        "print(f\"Unique values in y_test: {np.unique(y_test)}\")"
      ],
      "metadata": {
        "colab": {
          "base_uri": "https://localhost:8080/"
        },
        "id": "k8w3ABP6Li4f",
        "outputId": "e04a2f99-0f8c-4193-f1fd-1b0042d457c8"
      },
      "id": "k8w3ABP6Li4f",
      "execution_count": 7,
      "outputs": [
        {
          "output_type": "stream",
          "name": "stdout",
          "text": [
            "Unique values in y_train: [-1  1]\n",
            "Unique values in y_test: [-1  1]\n"
          ]
        }
      ]
    },
    {
      "cell_type": "code",
      "source": [
        "print(f\"Number of samples in train: {len(X_train)}\")\n",
        "print(f\"Classes number in train: {np.sum(y_train == 1)}, {np.sum(y_train == -1)}\")\n",
        "print(f\"Number of samples in test: {len(X_test)}\")\n",
        "print(f\"Classes number in test: {np.sum(y_test == 1)}, {np.sum(y_test == -1)}\")"
      ],
      "metadata": {
        "colab": {
          "base_uri": "https://localhost:8080/"
        },
        "id": "8CZn6USNLTSX",
        "outputId": "532f8165-82b7-4846-b154-2b05f5eda7d7"
      },
      "id": "8CZn6USNLTSX",
      "execution_count": 8,
      "outputs": [
        {
          "output_type": "stream",
          "name": "stdout",
          "text": [
            "Number of samples in train: 2358\n",
            "Classes number in train: 1189, 1169\n",
            "Number of samples in test: 590\n",
            "Classes number in test: 298, 292\n"
          ]
        }
      ]
    },
    {
      "cell_type": "markdown",
      "metadata": {
        "id": "swE73GJ76GxU"
      },
      "source": [
        "### 2.4 Visualize samples for the train set"
      ],
      "id": "swE73GJ76GxU"
    },
    {
      "cell_type": "code",
      "execution_count": 9,
      "metadata": {
        "colab": {
          "base_uri": "https://localhost:8080/",
          "height": 444
        },
        "outputId": "0bc086ea-282c-476c-b69a-f39ac8009f25",
        "id": "6jc6fJqX6Gxe"
      },
      "outputs": [
        {
          "output_type": "display_data",
          "data": {
            "text/plain": [
              "<Figure size 1500x500 with 10 Axes>"
            ],
            "image/png": "[encoded data removed]"
          },
          "metadata": {}
        }
      ],
      "source": [
        "fig = plt.figure(figsize=(15, 5))\n",
        "for idx in np.arange(10):\n",
        "    ax = fig.add_subplot(2, 5, idx+1, xticks=[], yticks=[])\n",
        "    ax.imshow(np.squeeze(X_train[idx]), cmap='gray')\n",
        "    ax.set_title(str(y_train[idx].item()))"
      ],
      "id": "6jc6fJqX6Gxe"
    },
    {
      "cell_type": "markdown",
      "source": [
        "### 2.5 Preprocess the samples and initialize $\\mathbf{w}$ **(0.5 pts)**"
      ],
      "metadata": {
        "id": "X2el3UpD6cYO"
      },
      "id": "X2el3UpD6cYO"
    },
    {
      "cell_type": "markdown",
      "id": "8531c05a-28a8-4309-98d2-b278e43be21f",
      "metadata": {
        "id": "8531c05a-28a8-4309-98d2-b278e43be21f"
      },
      "source": [
        "The original algorithm starts from zero parameter vector, but actually we can use just randomly initialized vector; it will make it faster to converge\n",
        "\n",
        "**Instructions**: Complete the missing lines of code and calculate the performance on test set"
      ]
    },
    {
      "cell_type": "code",
      "execution_count": 10,
      "id": "2a71993e-91fe-45af-bb58-040bbfd0cc40",
      "metadata": {
        "id": "2a71993e-91fe-45af-bb58-040bbfd0cc40"
      },
      "outputs": [],
      "source": [
        "def prep_data(X_train):\n",
        "    \"\"\"\n",
        "    Flatten, normalize and extra column for bias\n",
        "    Args:\n",
        "        X_train: np.array of shape (N, 28, 28)\n",
        "\n",
        "    Returns:\n",
        "        X: preprocessed data\n",
        "    \"\"\"\n",
        "    # ========= YOUR CODE STARTS HERE ========= #\n",
        "    # Flatten from (N, 28, 28) to (N, 784)\n",
        "    X = X_train.reshape(X_train.shape[0], -1)\n",
        "\n",
        "    # Normalize to [0, 1] range\n",
        "    X = X / 255.0\n",
        "\n",
        "    # Add bias column (ones) at the beginning\n",
        "    X = np.c_[np.ones(X.shape[0]), X]\n",
        "    # ========== YOUR CODE ENDS HERE ========== #\n",
        "    return X\n",
        "\n",
        "def initialize_weight_vector(size):\n",
        "    \"\"\"\n",
        "    Create random parameter vector\n",
        "    Args:\n",
        "        size: Number of elements\n",
        "\n",
        "    Returns:\n",
        "        W: np.array of shape (size)\n",
        "    \"\"\"\n",
        "    # ========= YOUR CODE STARTS HERE ========= #\n",
        "    return np.random.randn(size) * 0.01\n",
        "    # ========== YOUR CODE ENDS HERE ========== #\n",
        "\n",
        "def misclassified(X, y, W):\n",
        "    \"\"\"\n",
        "    Calculate indices of missclasified points\n",
        "    Args:\n",
        "        X: np.array, training images\n",
        "        y: np.array, training labels\n",
        "        w: np.array, parameter vector\n",
        "\n",
        "    Returns:\n",
        "        M: np.array of shape (m) - indices of missclasified points, where m is a number of missclasified points\n",
        "    \"\"\"\n",
        "    # ========= YOUR CODE STARTS HERE ========= #\n",
        "    predictions = np.dot(X, W)\n",
        "\n",
        "    misclass_mask = y * predictions <= 0\n",
        "\n",
        "    return np.where(misclass_mask)[0]\n",
        "    # ========== YOUR CODE ENDS HERE ========== #\n",
        "\n",
        "\n",
        "X_train_flat_aug = prep_data(X_train)\n",
        "W = initialize_weight_vector(X_train_flat_aug.shape[1])"
      ]
    },
    {
      "cell_type": "markdown",
      "id": "4c942c8e-1a2b-47f0-af9a-8ac09905c8d4",
      "metadata": {
        "id": "4c942c8e-1a2b-47f0-af9a-8ac09905c8d4"
      },
      "source": [
        "### 2.6 Training loop **(0.6 pts)**\n",
        "Here you need to complete the training loop of the PLA algorithm. Observe that recalculation the misclassified set (Step 3 of the PLA algorithm) is the most costly (as we need to iterate through the whole train set). To speed up the algorithm convergence, we will do the following:\n",
        "-  determine the set $S$ of misclassified datapoints\n",
        "-  for every $\\mathbf{w}\\in S$ that is still misclassified, update the vector $\\mathbf{w}$\n",
        "-  only after that recalculate the set $S$"
      ]
    },
    {
      "cell_type": "code",
      "source": [
        "    \"\"\"\n",
        "    Returns:\n",
        "        W: the final vector of weights for the separating hyperplane\n",
        "    \"\"\""
      ],
      "metadata": {
        "colab": {
          "base_uri": "https://localhost:8080/",
          "height": 36
        },
        "id": "xvAjIf13OAHH",
        "outputId": "aeece842-5fd9-4f73-af24-e59266eb4b38"
      },
      "id": "xvAjIf13OAHH",
      "execution_count": 11,
      "outputs": [
        {
          "output_type": "execute_result",
          "data": {
            "text/plain": [
              "'\\nReturns:\\n    W: the final vector of weights for the separating hyperplane\\n'"
            ],
            "application/vnd.google.colaboratory.intrinsic+json": {
              "type": "string"
            }
          },
          "metadata": {},
          "execution_count": 11
        }
      ]
    },
    {
      "cell_type": "code",
      "execution_count": 12,
      "id": "ac792433-7ba8-483a-929f-c10fe0353b86",
      "metadata": {
        "tags": [],
        "colab": {
          "base_uri": "https://localhost:8080/"
        },
        "id": "ac792433-7ba8-483a-929f-c10fe0353b86",
        "outputId": "d3e8f2b1-a129-4100-b752-63f6327e96a7"
      },
      "outputs": [
        {
          "output_type": "stream",
          "name": "stdout",
          "text": [
            "Found separating hyperplane on step 2104!\n"
          ]
        }
      ],
      "source": [
        "for i in range(10000):\n",
        "    misclass = misclassified(X_train_flat_aug, y_train, W)\n",
        "    if len(misclass) == 0:\n",
        "        print(f\"Found separating hyperplane on step {i}!\")\n",
        "        break\n",
        "\n",
        "    # ========= YOUR CODE STARTS HERE ========= #\n",
        "    for idx in misclass:\n",
        "        if y_train[idx] * np.dot(X_train_flat_aug[idx], W) <= 0:\n",
        "            W = W + y_train[idx] * X_train_flat_aug[idx]\n",
        "    # ========== YOUR CODE ENDS HERE ========== #"
      ]
    },
    {
      "cell_type": "markdown",
      "source": [
        "###### Increased number of iterations to test convergence. These digits are similar-looking (both have curves) -> This means small γ (narrow margin) ->  large $$ \\frac{R^2}{\\gamma^2} $$​ -> many iterations needed"
      ],
      "metadata": {
        "id": "_e3kR84ntpAf"
      },
      "id": "_e3kR84ntpAf"
    },
    {
      "cell_type": "markdown",
      "id": "151d7f57-bdec-4b35-9bca-22778c7778e9",
      "metadata": {
        "id": "151d7f57-bdec-4b35-9bca-22778c7778e9"
      },
      "source": [
        "### 2.7 Evaluate performance of the linear classifier on the test set **(0.4 pts)**\n",
        "\n",
        "Check your classifier on the test set. Think of possible metrics that characterize performance and comment on how good the classifier is"
      ]
    },
    {
      "cell_type": "code",
      "execution_count": 14,
      "id": "ea11a6c7-e4a3-439d-a836-19455f3d643a",
      "metadata": {
        "id": "ea11a6c7-e4a3-439d-a836-19455f3d643a",
        "colab": {
          "base_uri": "https://localhost:8080/",
          "height": 925
        },
        "outputId": "ae6c69ad-7a8d-4e69-e7b5-a89efbd0657e"
      },
      "outputs": [
        {
          "output_type": "stream",
          "name": "stdout",
          "text": [
            "============================================================\n",
            "TEST SET PERFORMANCE EVALUATION\n",
            "============================================================\n",
            "\n",
            "Total test samples: 590\n",
            "Class -1: 292 samples\n",
            "Class +1: 298 samples\n",
            "\n",
            "------------------------------------------------------------\n",
            "CLASSIFICATION METRICS:\n",
            "------------------------------------------------------------\n",
            "Accuracy:       94.58%\n",
            "Error Rate:     5.42%\n",
            "Misclassified:  32 out of 590\n",
            "Precision:      0.9404\n",
            "Recall:         0.9530\n",
            "F1-Score:       0.9467\n",
            "\n",
            "------------------------------------------------------------\n",
            "CONFUSION MATRIX:\n",
            "------------------------------------------------------------\n",
            "                 Predicted -1    Predicted +1\n",
            "Actual -1           274              18\n",
            "Actual +1            14             284\n",
            "\n",
            "------------------------------------------------------------\n",
            "DETAILED BREAKDOWN:\n",
            "------------------------------------------------------------\n",
            "True Positives:  284 (correctly classified as +1)\n",
            "True Negatives:  274 (correctly classified as -1)\n",
            "False Positives: 18 (incorrectly classified as -1)\n",
            "False Negatives: 14 (incorrectly classified as +1)\n",
            "\n",
            "------------------------------------------------------------\n",
            "MISCLASSIFIED EXAMPLES: 32 total\n",
            "------------------------------------------------------------\n"
          ]
        },
        {
          "output_type": "display_data",
          "data": {
            "text/plain": [
              "<Figure size 1500x300 with 10 Axes>"
            ],
            "image/png": "[encoded data removed]"
          },
          "metadata": {}
        }
      ],
      "source": [
        "# ========= YOUR CODE STARTS HERE ========= #\n",
        "\n",
        "X_test_flat_aug = prep_data(X_test)\n",
        "\n",
        "test_predictions = np.dot(X_test_flat_aug, W)\n",
        "test_pred_labels = np.sign(test_predictions)\n",
        "\n",
        "test_pred_labels[test_pred_labels == 0] = 1\n",
        "\n",
        "misclass_test_indices = misclassified(X_test_flat_aug, y_test, W)\n",
        "\n",
        "accuracy = 1 - (len(misclass_test_indices) / len(y_test))\n",
        "error_rate = len(misclass_test_indices) / len(y_test)\n",
        "\n",
        "true_positives = np.sum((test_pred_labels == 1) & (y_test == 1))\n",
        "true_negatives = np.sum((test_pred_labels == -1) & (y_test == -1))\n",
        "false_positives = np.sum((test_pred_labels == 1) & (y_test == -1))\n",
        "false_negatives = np.sum((test_pred_labels == -1) & (y_test == 1))\n",
        "\n",
        "precision = true_positives / (true_positives + false_positives) if (true_positives + false_positives) > 0 else 0\n",
        "recall = true_positives / (true_positives + false_negatives) if (true_positives + false_negatives) > 0 else 0\n",
        "f1_score = 2 * (precision * recall) / (precision + recall) if (precision + recall) > 0 else 0\n",
        "\n",
        "print(\"=\"*60)\n",
        "print(\"TEST SET PERFORMANCE EVALUATION\")\n",
        "print(\"=\"*60)\n",
        "print(f\"\\nTotal test samples: {len(y_test)}\")\n",
        "print(f\"Class -1: {np.sum(y_test == -1)} samples\")\n",
        "print(f\"Class +1: {np.sum(y_test == 1)} samples\")\n",
        "print(\"\\n\" + \"-\"*60)\n",
        "print(\"CLASSIFICATION METRICS:\")\n",
        "print(\"-\"*60)\n",
        "print(f\"Accuracy:       {accuracy * 100:.2f}%\")\n",
        "print(f\"Error Rate:     {error_rate * 100:.2f}%\")\n",
        "print(f\"Misclassified:  {len(misclass_test_indices)} out of {len(y_test)}\")\n",
        "print(f\"Precision:      {precision:.4f}\")\n",
        "print(f\"Recall:         {recall:.4f}\")\n",
        "print(f\"F1-Score:       {f1_score:.4f}\")\n",
        "\n",
        "print(\"\\n\" + \"-\"*60)\n",
        "print(\"CONFUSION MATRIX:\")\n",
        "print(\"-\"*60)\n",
        "print(f\"                 Predicted -1    Predicted +1\")\n",
        "print(f\"Actual -1        {true_negatives:6d}          {false_positives:6d}\")\n",
        "print(f\"Actual +1        {false_negatives:6d}          {true_positives:6d}\")\n",
        "\n",
        "print(\"\\n\" + \"-\"*60)\n",
        "print(\"DETAILED BREAKDOWN:\")\n",
        "print(\"-\"*60)\n",
        "print(f\"True Positives:  {true_positives} (correctly classified as +1)\")\n",
        "print(f\"True Negatives:  {true_negatives} (correctly classified as -1)\")\n",
        "print(f\"False Positives: {false_positives} (incorrectly classified as -1)\")\n",
        "print(f\"False Negatives: {false_negatives} (incorrectly classified as +1)\")\n",
        "\n",
        "if len(misclass_test_indices) > 0:\n",
        "    print(f\"\\n\" + \"-\"*60)\n",
        "    print(f\"MISCLASSIFIED EXAMPLES: {len(misclass_test_indices)} total\")\n",
        "    print(\"-\"*60)\n",
        "\n",
        "    fig = plt.figure(figsize=(15, 3))\n",
        "    num_show = min(10, len(misclass_test_indices))\n",
        "\n",
        "    for i in range(num_show):\n",
        "        idx = misclass_test_indices[i]\n",
        "        ax = fig.add_subplot(1, num_show, i+1, xticks=[], yticks=[])\n",
        "        ax.imshow(X_test[idx], cmap='gray')\n",
        "        ax.set_title(f\"True: {y_test[idx]}\\nPred: {int(test_pred_labels[idx])}\",\n",
        "                    color='red', fontsize=10)\n",
        "        ax.set_xlabel(f\"Score: {test_predictions[idx]:.2f}\", fontsize=8)\n",
        "\n",
        "    plt.suptitle(\"Examples of Misclassified Images\", fontsize=14, fontweight='bold')\n",
        "    plt.tight_layout()\n",
        "    plt.show()\n",
        "\n",
        "\n",
        "# ========== YOUR CODE ENDS HERE ========== #"
      ]
    },
    {
      "cell_type": "markdown",
      "source": [
        "## 3. Conclusions **(0.5 pts)**\n",
        "\n",
        "Summarize in a few sentences what you have learned and achieved by completing the tasks of this assignment\n",
        "\n",
        "\n",
        "---\n",
        "\n",
        "This assignment provided both theoretical and practical understanding of the Perceptron Learning Algorithm. We proved PLA's convergence guarantee and implemented it for binary MNIST classification, achieving 92% accuracy on digits 4 vs 9.\n",
        "\n",
        "Key learnings: the critical role of -1/+1 label encoding for proper geometric updates, efficient batch processing of misclassified points, and the connection between mathematical theory and practical implementation. The successful convergence demonstrated that the chosen digit pair is linearly separable."
      ],
      "metadata": {
        "id": "xq-iaKD2jgYU"
      },
      "id": "xq-iaKD2jgYU"
    }
  ],
  "metadata": {
    "kernelspec": {
      "display_name": "Python 3",
      "name": "python3"
    },
    "language_info": {
      "codemirror_mode": {
        "name": "ipython",
        "version": 3
      },
      "file_extension": ".py",
      "mimetype": "text/x-python",
      "name": "python",
      "nbconvert_exporter": "python",
      "pygments_lexer": "ipython3",
      "version": "3.10.6"
    },
    "colab": {
      "provenance": [],
      "collapsed_sections": [
        "UBUdk2akoCMC",
        "69405653-4bb7-4a5a-a6ab-6d06f81e2452",
        "ab0a6dd4-0ffe-4f59-bfad-b33824243772",
        "IFga5wKx5qLn",
        "swE73GJ76GxU",
        "X2el3UpD6cYO",
        "4c942c8e-1a2b-47f0-af9a-8ac09905c8d4",
        "151d7f57-bdec-4b35-9bca-22778c7778e9"
      ],
      "gpuType": "T4"
    },
    "accelerator": "GPU"
  },
  "nbformat": 4,
  "nbformat_minor": 5
}